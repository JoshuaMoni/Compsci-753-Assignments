{
 "cells": [
  {
   "cell_type": "markdown",
   "metadata": {},
   "source": [
    "# Compsci 753 Assignment 3\n",
    "Joshua Monigatti<br> \n",
    "jmon587<br>\n",
    "677195382<br>"
   ]
  },
  {
   "cell_type": "code",
   "execution_count": 1,
   "metadata": {},
   "outputs": [],
   "source": [
    "### Imports\n",
    "import numpy as np \n",
    "from numpy.linalg import norm\n",
    "import pandas as pd \n",
    "import scipy.sparse as sp\n",
    "from sklearn.preprocessing import normalize\n",
    "from time import time\n",
    "\n",
    "import matplotlib.pyplot as plt \n",
    "\n",
    "plt.rcParams[\"figure.figsize\"] = (10,8)\n",
    "# Quality of life\n",
    "size = 20"
   ]
  },
  {
   "cell_type": "code",
   "execution_count": 2,
   "metadata": {},
   "outputs": [],
   "source": [
    "n = 875713 # Setting the n \n",
    "mat = sp.dok_matrix((n, n), dtype=np.int8) # Creating the empty "
   ]
  },
  {
   "cell_type": "code",
   "execution_count": 3,
   "metadata": {},
   "outputs": [
    {
     "name": "stdout",
     "output_type": "stream",
     "text": [
      "Time taken to run cell: 76.98s\n"
     ]
    }
   ],
   "source": [
    "start = time() # Checking how long it takes to run\n",
    "with open(\"web-Google.txt\",'r') as obj:\n",
    "    \n",
    "    for line in obj:\n",
    "        edge = line.rstrip().split(\" \") # Remove the trailing \\n and split on whitespace\n",
    "        s,d = int(edge[0]),int(edge[-1])\n",
    "        mat[d,s] = 1 # The b is the destination (Row) and a is the source (Col)\n",
    "\n",
    "adj_matrix = mat.tocsr() # Convert it to an CSR \n",
    "print(f\"Time taken to run cell: {time() - start :.2f}s\")"
   ]
  },
  {
   "cell_type": "code",
   "execution_count": 4,
   "metadata": {},
   "outputs": [],
   "source": [
    "n_mat = normalize(adj_matrix, norm ='l1', axis = 0)"
   ]
  },
  {
   "cell_type": "code",
   "execution_count": 5,
   "metadata": {
    "scrolled": true
   },
   "outputs": [],
   "source": [
    "def power_iterate(): \n",
    "    # Construct the rank vector\n",
    "    r = np.full([n,1], 1 / n)\n",
    "    start = time()\n",
    "    iterations = 0\n",
    "\n",
    "    leak_outs = [] # This is used in task 2 \n",
    "\n",
    "    # Running the Power Iteration Algorithm\n",
    "    while True: \n",
    "        r1 = n_mat.dot(r)\n",
    "        if norm(np.subtract(r1, r), 1) < 0.02: \n",
    "            break\n",
    "        # If a column does not sum to 1 then it means that leaks occur\n",
    "        # Take the sum of the matrix and subtract it from one to get the amount of leekage\n",
    "        leak_outs.append(1 - sum(r1))\n",
    "        r = r1\n",
    "\n",
    "        iterations += 1 \n",
    "    end = time() - start\n",
    "    return iterations, end, r, leak_outs"
   ]
  },
  {
   "cell_type": "code",
   "execution_count": 6,
   "metadata": {
    "scrolled": false
   },
   "outputs": [
    {
     "name": "stdout",
     "output_type": "stream",
     "text": [
      "Time taken to run power iteration: 32.52s\n",
      "Number of iterations: 61\n",
      "\n",
      "ID's and scores of top 10 rank nodes:\n",
      "==========================================\n",
      "ID: 6116, score: 0.0006142653226569773\n",
      "ID: 69055, score: 0.0006026988237679194\n",
      "ID: 69056, score: 0.0006026988237679194\n",
      "ID: 69057, score: 0.0006026988237679194\n",
      "ID: 31562, score: 0.00038752068910951715\n",
      "ID: 572672, score: 0.00034746634519001687\n",
      "ID: 572673, score: 0.00030891720581562276\n",
      "ID: 60232, score: 0.00027901554845488933\n",
      "ID: 572674, score: 0.000269660191575348\n",
      "ID: 305140, score: 0.00024249880826776926\n",
      "==========================================\n"
     ]
    }
   ],
   "source": [
    "# Part 1b)  \n",
    "iterations, end, r, leak_outs = power_iterate()\n",
    "flat_r = r.flatten(order = 'C')\n",
    "ind = flat_r.argsort()[-10:][::-1]\n",
    "values = flat_r[ind]\n",
    "\n",
    "print(f\"Time taken to run power iteration:{end: .2f}s\")\n",
    "print(f\"Number of iterations: {iterations}\\n\")\n",
    "\n",
    "print(f\"ID's and scores of top 10 rank nodes:\")\n",
    "print('=' * 42)\n",
    "for i in range(10): \n",
    "    print(f\"ID: {ind[i]}, score: {values[i]}\")\n",
    "\n",
    "print('=' * 42)"
   ]
  },
  {
   "cell_type": "code",
   "execution_count": 24,
   "metadata": {
    "scrolled": false
   },
   "outputs": [
    {
     "name": "stdout",
     "output_type": "stream",
     "text": [
      "Number of leak outs for each iteration:\n",
      "==================================================\n",
      "Iteration: 1, Leaked PageRank Score: [0.15559778]\n",
      "Iteration: 2, Leaked PageRank Score: [0.23910007]\n",
      "Iteration: 3, Leaked PageRank Score: [0.28530267]\n",
      "Iteration: 4, Leaked PageRank Score: [0.32035066]\n",
      "Iteration: 5, Leaked PageRank Score: [0.35183554]\n",
      "Iteration: 6, Leaked PageRank Score: [0.37954439]\n",
      "Iteration: 7, Leaked PageRank Score: [0.40512937]\n",
      "Iteration: 8, Leaked PageRank Score: [0.42827233]\n",
      "Iteration: 9, Leaked PageRank Score: [0.44984208]\n",
      "Iteration: 10, Leaked PageRank Score: [0.46964851]\n",
      "Iteration: 11, Leaked PageRank Score: [0.4881852]\n",
      "Iteration: 12, Leaked PageRank Score: [0.50535663]\n",
      "Iteration: 13, Leaked PageRank Score: [0.52150215]\n",
      "Iteration: 14, Leaked PageRank Score: [0.53654523]\n",
      "Iteration: 15, Leaked PageRank Score: [0.55074022]\n",
      "Iteration: 16, Leaked PageRank Score: [0.56403312]\n",
      "Iteration: 17, Leaked PageRank Score: [0.5766075]\n",
      "Iteration: 18, Leaked PageRank Score: [0.58843121]\n",
      "Iteration: 19, Leaked PageRank Score: [0.59964464]\n",
      "Iteration: 20, Leaked PageRank Score: [0.61022135]\n",
      "Iteration: 21, Leaked PageRank Score: [0.62027432]\n",
      "Iteration: 22, Leaked PageRank Score: [0.6297856]\n",
      "Iteration: 23, Leaked PageRank Score: [0.63884143]\n",
      "Iteration: 24, Leaked PageRank Score: [0.64743113]\n",
      "Iteration: 25, Leaked PageRank Score: [0.65562519]\n",
      "Iteration: 26, Leaked PageRank Score: [0.66341347]\n",
      "Iteration: 27, Leaked PageRank Score: [0.67085464]\n",
      "Iteration: 28, Leaked PageRank Score: [0.67794269]\n",
      "Iteration: 29, Leaked PageRank Score: [0.68472336]\n",
      "Iteration: 30, Leaked PageRank Score: [0.69119371]\n",
      "Iteration: 31, Leaked PageRank Score: [0.69739273]\n",
      "Iteration: 32, Leaked PageRank Score: [0.70331667]\n",
      "Iteration: 33, Leaked PageRank Score: [0.70899887]\n",
      "Iteration: 34, Leaked PageRank Score: [0.71443798]\n",
      "Iteration: 35, Leaked PageRank Score: [0.71966008]\n",
      "Iteration: 36, Leaked PageRank Score: [0.72466532]\n",
      "Iteration: 37, Leaked PageRank Score: [0.7294767]\n",
      "Iteration: 38, Leaked PageRank Score: [0.73409328]\n",
      "Iteration: 39, Leaked PageRank Score: [0.73853508]\n",
      "Iteration: 40, Leaked PageRank Score: [0.74280275]\n",
      "Iteration: 41, Leaked PageRank Score: [0.74691187]\n",
      "Iteration: 42, Leaked PageRank Score: [0.7508639]\n",
      "Iteration: 43, Leaked PageRank Score: [0.754673]\n",
      "Iteration: 44, Leaked PageRank Score: [0.75833956]\n",
      "Iteration: 45, Leaked PageRank Score: [0.76187606]\n",
      "Iteration: 46, Leaked PageRank Score: [0.76528401]\n",
      "Iteration: 47, Leaked PageRank Score: [0.76857298]\n",
      "Iteration: 48, Leaked PageRank Score: [0.77174497]\n",
      "Iteration: 49, Leaked PageRank Score: [0.7748089]\n",
      "Iteration: 50, Leaked PageRank Score: [0.77776584]\n",
      "Iteration: 51, Leaked PageRank Score: [0.78062374]\n",
      "Iteration: 52, Leaked PageRank Score: [0.78338446]\n",
      "Iteration: 53, Leaked PageRank Score: [0.78605399]\n",
      "Iteration: 54, Leaked PageRank Score: [0.78863445]\n",
      "Iteration: 55, Leaked PageRank Score: [0.79113157]\n",
      "Iteration: 56, Leaked PageRank Score: [0.79354672]\n",
      "Iteration: 57, Leaked PageRank Score: [0.79588501]\n",
      "Iteration: 58, Leaked PageRank Score: [0.79814844]\n",
      "Iteration: 59, Leaked PageRank Score: [0.8003407]\n",
      "Iteration: 60, Leaked PageRank Score: [0.80246394]\n",
      "Iteration: 61, Leaked PageRank Score: [0.80452183]\n",
      "==================================================\n"
     ]
    }
   ],
   "source": [
    "# Task 2: Exploiting Dead ends \n",
    "print(\"Number of leak outs for each iteration:\")\n",
    "print('=' * 50)\n",
    "for i, leak in enumerate(leak_outs): \n",
    "    print(f\"Iteration: {i + 1}, Leaked PageRank Score: {leak}\")\n",
    "print('=' * 50)"
   ]
  },
  {
   "cell_type": "markdown",
   "metadata": {},
   "source": [
    "# Explain the phenomenon in the above code\n",
    "After the second iteration there are vastly more leak outs than in the previous <br>\n",
    "Following this it increases once again but by ~25% <br>\n",
    "After this the changes in the leak out are relatively small from iteration 4 to 61 <br>"
   ]
  },
  {
   "cell_type": "code",
   "execution_count": 34,
   "metadata": {
    "scrolled": false
   },
   "outputs": [
    {
     "name": "stdout",
     "output_type": "stream",
     "text": [
      "[0.08350229]\n",
      "[0.0462026]\n",
      "[0.03504799]\n",
      "[0.03148488]\n",
      "[0.02770885]\n",
      "[0.02558498]\n",
      "[0.02314296]\n",
      "[0.02156976]\n",
      "[0.01980642]\n",
      "[0.01853669]\n",
      "[0.01717144]\n",
      "[0.01614551]\n",
      "[0.01504308]\n",
      "[0.01419499]\n",
      "[0.0132929]\n",
      "[0.01257438]\n",
      "[0.01182371]\n",
      "[0.01121344]\n",
      "[0.0105767]\n",
      "[0.01005298]\n",
      "[0.00951128]\n",
      "[0.00905583]\n",
      "[0.0085897]\n",
      "[0.00819406]\n",
      "[0.00778828]\n",
      "[0.00744117]\n",
      "[0.00708804]\n",
      "[0.00678068]\n",
      "[0.00647035]\n",
      "[0.00619902]\n",
      "[0.00592394]\n",
      "[0.0056822]\n",
      "[0.0054391]\n",
      "[0.0052221]\n",
      "[0.00500524]\n",
      "[0.00481138]\n",
      "[0.00461658]\n",
      "[0.0044418]\n",
      "[0.00426767]\n",
      "[0.00410912]\n",
      "[0.00395204]\n",
      "[0.0038091]\n",
      "[0.00366656]\n",
      "[0.0035365]\n",
      "[0.00340795]\n",
      "[0.00328898]\n",
      "[0.00317199]\n",
      "[0.00306394]\n",
      "[0.00295694]\n",
      "[0.00285789]\n",
      "[0.00276073]\n",
      "[0.00266952]\n",
      "[0.00258046]\n",
      "[0.00249713]\n",
      "[0.00241515]\n",
      "[0.00233829]\n",
      "[0.00226342]\n",
      "[0.00219226]\n",
      "[0.00212324]\n",
      "[0.00205789]\n"
     ]
    }
   ],
   "source": [
    "# Each time a new iteration is ran, the increase in the leakage is by a smaller amount as it heads towards 1\n",
    "for i in range(1, len(leak_outs)): \n",
    "    print(abs(leak_outs[i] - leak_outs[i - 1]))"
   ]
  },
  {
   "cell_type": "code",
   "execution_count": 8,
   "metadata": {},
   "outputs": [],
   "source": [
    "# Task 3a: Implemetation of Teleport\n",
    "\n",
    "def pr_teleports(b, give_r): \n",
    "    r = np.full([n,1], (1 / n))  # Construct the rank vector\n",
    "    #jump = (1 - b) * r # Constant vector that will be used for the values of teleports\n",
    "    iterations = 0 # Keeps Track of all of the teleports\n",
    "    #link = b * n_mat.dot(r) # Not sure if this is used outside of the runner code \n",
    "    start = time()\n",
    "\n",
    "    # Running the Power Iteration Algorithm with teleports\n",
    "    while True: \n",
    "        # Step 1) Calculate the rank with random walks\n",
    "        r1 = b * (n_mat.dot(r))\n",
    "        \n",
    "        #  Step 2) / Step 3) Update the rank with the possibility of resulting there from a jump \n",
    "        #r1 += (1 - sum(r1)) / n\n",
    "        jump = (1 - sum(r1)) / n\n",
    "        # New r\n",
    "        r1 = np.add(r1,jump)\n",
    "        \n",
    "        if norm(np.subtract(r1, r), 1) < 0.02: # Check that the difference is important enough\n",
    "            break\n",
    "        r = r1 # Update the value of r\n",
    "\n",
    "        iterations += 1 \n",
    "    end = time() - start\n",
    "    if give_r:\n",
    "        return iterations, end, r\n",
    "    return iterations, end"
   ]
  },
  {
   "cell_type": "code",
   "execution_count": 9,
   "metadata": {},
   "outputs": [
    {
     "name": "stdout",
     "output_type": "stream",
     "text": [
      "Time taken to run power iteration with teleports: 6.32s\n",
      "Number of iterations: 10\n",
      "\n",
      "ID's and scores of top 10 rank nodes:\n",
      "==========================================\n",
      "ID: 2138, score: 0.0010051733556308902\n",
      "ID: 115, score: 0.0009690771628563133\n",
      "ID: 3178, score: 0.0009379368329029661\n",
      "ID: 2560, score: 0.000934486084769227\n",
      "ID: 1950, score: 0.0008470853217684162\n",
      "ID: 1181, score: 0.0008101314023884026\n",
      "ID: 903, score: 0.0007892633596166054\n",
      "ID: 1611, score: 0.0007614762866882549\n",
      "ID: 3150, score: 0.0007539516024621503\n",
      "ID: 3180, score: 0.000745012321962063\n",
      "==========================================\n"
     ]
    }
   ],
   "source": [
    "# Task 3b) \n",
    "b = 0.9 # Beta value\n",
    "iterations, end, r = pr_teleports(b, True)\n",
    "flat_r = r.flatten(order = 'C')\n",
    "ind = flat_r.argsort()[-10:][::-1]\n",
    "values = flat_r[ind]\n",
    "\n",
    "print(f\"Time taken to run power iteration with teleports:{end: .2f}s\")\n",
    "print(f\"Number of iterations: {iterations}\\n\")\n",
    "\n",
    "print(f\"ID's and scores of top 10 rank nodes:\")\n",
    "print('=' * 42)\n",
    "for i in range(10): \n",
    "    print(f\"ID: {ind[i]}, score: {values[i]}\")\n",
    "\n",
    "print('=' * 42)"
   ]
  },
  {
   "cell_type": "code",
   "execution_count": 10,
   "metadata": {},
   "outputs": [],
   "source": [
    "# Task 3c) \n",
    "varying_b = [1, 0.9, 0.8, 0.7, 0.6, 0.5]\n",
    "n_its = []\n",
    "times = []\n",
    "for b in varying_b: \n",
    "    its, t = pr_teleports(b, False)\n",
    "    n_its.append(its)\n",
    "    times.append(t)\n",
    "    \n",
    "    # Run the algorithm from task 3a"
   ]
  },
  {
   "cell_type": "code",
   "execution_count": 13,
   "metadata": {},
   "outputs": [
    {
     "name": "stdout",
     "output_type": "stream",
     "text": [
      "Displaying the varying iterations for each varying beta\n",
      "Total Run time: 71.18s\n",
      "\n",
      "============================================\n",
      "Value of beta: 1, number of iterations: 89\n",
      "============================================\n",
      "Value of beta: 0.9, number of iterations: 10\n",
      "============================================\n",
      "Value of beta: 0.8, number of iterations: 6\n",
      "============================================\n",
      "Value of beta: 0.7, number of iterations: 5\n",
      "============================================\n",
      "Value of beta: 0.6, number of iterations: 4\n",
      "============================================\n",
      "Value of beta: 0.5, number of iterations: 3\n",
      "============================================\n"
     ]
    },
    {
     "data": {
      "image/png": "[encoded data removed]",
      "text/plain": [
       "<Figure size 720x576 with 1 Axes>"
      ]
     },
     "metadata": {
      "needs_background": "light"
     },
     "output_type": "display_data"
    }
   ],
   "source": [
    "# Displaying the varying iterations for each varying beta \n",
    "print(\"Displaying the varying iterations for each varying beta\")\n",
    "print(f\"Total Run time: {sum(times):.2f}s\\n\")\n",
    "for i in range(len(n_its)): \n",
    "    print('=' * 44)\n",
    "    print(f\"Value of beta: {varying_b[i]}, number of iterations: {n_its[i]}\")\n",
    "print('=' * 44)\n",
    "\n",
    "# Plotting it as a bar graph \n",
    "\n",
    "X_axis = np.arange(len(varying_b))\n",
    "plt.bar(X_axis, n_its)\n",
    "plt.title(f\"Varying beta values and number of iterations needed\", fontsize = size + 10)\n",
    "plt.xlabel(\"Varying beta\", fontsize = size)\n",
    "plt.ylabel(\"Iterations\", fontsize = size)\n",
    "plt.xticks(X_axis, varying_b)\n",
    "plt.show()"
   ]
  }
 ],
 "metadata": {
  "kernelspec": {
   "display_name": "Python 3",
   "language": "python",
   "name": "python3"
  },
  "language_info": {
   "codemirror_mode": {
    "name": "ipython",
    "version": 3
   },
   "file_extension": ".py",
   "mimetype": "text/x-python",
   "name": "python",
   "nbconvert_exporter": "python",
   "pygments_lexer": "ipython3",
   "version": "3.8.5"
  },
  "vscode": {
   "interpreter": {
    "hash": "dd7c88b506e5e4fae4118987de4388795f823a087bf59b125b27349d3cb2a9e8"
   }
  }
 },
 "nbformat": 4,
 "nbformat_minor": 4
}
